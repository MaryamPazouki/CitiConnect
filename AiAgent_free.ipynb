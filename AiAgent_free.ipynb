{
  "nbformat": 4,
  "nbformat_minor": 0,
  "metadata": {
    "colab": {
      "provenance": [],
      "authorship_tag": "ABX9TyOAgevlBd434gyjVMCKJxTy",
      "include_colab_link": true
    },
    "kernelspec": {
      "name": "python3",
      "display_name": "Python 3"
    },
    "language_info": {
      "name": "python"
    }
  },
  "cells": [
    {
      "cell_type": "markdown",
      "metadata": {
        "id": "view-in-github",
        "colab_type": "text"
      },
      "source": [
        "<a href=\"https://colab.research.google.com/github/MaryamPazouki/CitiConnect/blob/main/AiAgent_free.ipynb\" target=\"_parent\"><img src=\"https://colab.research.google.com/assets/colab-badge.svg\" alt=\"Open In Colab\"/></a>"
      ]
    },
    {
      "cell_type": "code",
      "source": [
        "!pip install together"
      ],
      "metadata": {
        "colab": {
          "base_uri": "https://localhost:8080/"
        },
        "id": "5SQ3jNjJYzWp",
        "outputId": "44141853-d164-47e3-c4bd-8d6fba735553"
      },
      "execution_count": null,
      "outputs": [
        {
          "output_type": "stream",
          "name": "stdout",
          "text": [
            "Collecting together\n",
            "  Downloading together-1.5.4-py3-none-any.whl.metadata (14 kB)\n",
            "Requirement already satisfied: aiohttp<4.0.0,>=3.9.3 in /usr/local/lib/python3.11/dist-packages (from together) (3.11.14)\n",
            "Requirement already satisfied: click<9.0.0,>=8.1.7 in /usr/local/lib/python3.11/dist-packages (from together) (8.1.8)\n",
            "Collecting eval-type-backport<0.3.0,>=0.1.3 (from together)\n",
            "  Downloading eval_type_backport-0.2.2-py3-none-any.whl.metadata (2.2 kB)\n",
            "Requirement already satisfied: filelock<4.0.0,>=3.13.1 in /usr/local/lib/python3.11/dist-packages (from together) (3.18.0)\n",
            "Requirement already satisfied: numpy>=1.23.5 in /usr/local/lib/python3.11/dist-packages (from together) (2.0.2)\n",
            "Requirement already satisfied: pillow<12.0.0,>=11.1.0 in /usr/local/lib/python3.11/dist-packages (from together) (11.1.0)\n",
            "Requirement already satisfied: pyarrow>=10.0.1 in /usr/local/lib/python3.11/dist-packages (from together) (18.1.0)\n",
            "Requirement already satisfied: pydantic<3.0.0,>=2.6.3 in /usr/local/lib/python3.11/dist-packages (from together) (2.11.0)\n",
            "Requirement already satisfied: requests<3.0.0,>=2.31.0 in /usr/local/lib/python3.11/dist-packages (from together) (2.32.3)\n",
            "Requirement already satisfied: rich<14.0.0,>=13.8.1 in /usr/local/lib/python3.11/dist-packages (from together) (13.9.4)\n",
            "Requirement already satisfied: tabulate<0.10.0,>=0.9.0 in /usr/local/lib/python3.11/dist-packages (from together) (0.9.0)\n",
            "Requirement already satisfied: tqdm<5.0.0,>=4.66.2 in /usr/local/lib/python3.11/dist-packages (from together) (4.67.1)\n",
            "Requirement already satisfied: typer<0.16,>=0.9 in /usr/local/lib/python3.11/dist-packages (from together) (0.15.2)\n",
            "Requirement already satisfied: aiohappyeyeballs>=2.3.0 in /usr/local/lib/python3.11/dist-packages (from aiohttp<4.0.0,>=3.9.3->together) (2.6.1)\n",
            "Requirement already satisfied: aiosignal>=1.1.2 in /usr/local/lib/python3.11/dist-packages (from aiohttp<4.0.0,>=3.9.3->together) (1.3.2)\n",
            "Requirement already satisfied: attrs>=17.3.0 in /usr/local/lib/python3.11/dist-packages (from aiohttp<4.0.0,>=3.9.3->together) (25.3.0)\n",
            "Requirement already satisfied: frozenlist>=1.1.1 in /usr/local/lib/python3.11/dist-packages (from aiohttp<4.0.0,>=3.9.3->together) (1.5.0)\n",
            "Requirement already satisfied: multidict<7.0,>=4.5 in /usr/local/lib/python3.11/dist-packages (from aiohttp<4.0.0,>=3.9.3->together) (6.2.0)\n",
            "Requirement already satisfied: propcache>=0.2.0 in /usr/local/lib/python3.11/dist-packages (from aiohttp<4.0.0,>=3.9.3->together) (0.3.1)\n",
            "Requirement already satisfied: yarl<2.0,>=1.17.0 in /usr/local/lib/python3.11/dist-packages (from aiohttp<4.0.0,>=3.9.3->together) (1.18.3)\n",
            "Requirement already satisfied: annotated-types>=0.6.0 in /usr/local/lib/python3.11/dist-packages (from pydantic<3.0.0,>=2.6.3->together) (0.7.0)\n",
            "Requirement already satisfied: pydantic-core==2.33.0 in /usr/local/lib/python3.11/dist-packages (from pydantic<3.0.0,>=2.6.3->together) (2.33.0)\n",
            "Requirement already satisfied: typing-extensions>=4.12.2 in /usr/local/lib/python3.11/dist-packages (from pydantic<3.0.0,>=2.6.3->together) (4.13.0)\n",
            "Requirement already satisfied: typing-inspection>=0.4.0 in /usr/local/lib/python3.11/dist-packages (from pydantic<3.0.0,>=2.6.3->together) (0.4.0)\n",
            "Requirement already satisfied: charset-normalizer<4,>=2 in /usr/local/lib/python3.11/dist-packages (from requests<3.0.0,>=2.31.0->together) (3.4.1)\n",
            "Requirement already satisfied: idna<4,>=2.5 in /usr/local/lib/python3.11/dist-packages (from requests<3.0.0,>=2.31.0->together) (3.10)\n",
            "Requirement already satisfied: urllib3<3,>=1.21.1 in /usr/local/lib/python3.11/dist-packages (from requests<3.0.0,>=2.31.0->together) (2.3.0)\n",
            "Requirement already satisfied: certifi>=2017.4.17 in /usr/local/lib/python3.11/dist-packages (from requests<3.0.0,>=2.31.0->together) (2025.1.31)\n",
            "Requirement already satisfied: markdown-it-py>=2.2.0 in /usr/local/lib/python3.11/dist-packages (from rich<14.0.0,>=13.8.1->together) (3.0.0)\n",
            "Requirement already satisfied: pygments<3.0.0,>=2.13.0 in /usr/local/lib/python3.11/dist-packages (from rich<14.0.0,>=13.8.1->together) (2.18.0)\n",
            "Requirement already satisfied: shellingham>=1.3.0 in /usr/local/lib/python3.11/dist-packages (from typer<0.16,>=0.9->together) (1.5.4)\n",
            "Requirement already satisfied: mdurl~=0.1 in /usr/local/lib/python3.11/dist-packages (from markdown-it-py>=2.2.0->rich<14.0.0,>=13.8.1->together) (0.1.2)\n",
            "Downloading together-1.5.4-py3-none-any.whl (87 kB)\n",
            "\u001b[2K   \u001b[90m━━━━━━━━━━━━━━━━━━━━━━━━━━━━━━━━━━━━━━━━\u001b[0m \u001b[32m87.8/87.8 kB\u001b[0m \u001b[31m3.1 MB/s\u001b[0m eta \u001b[36m0:00:00\u001b[0m\n",
            "\u001b[?25hDownloading eval_type_backport-0.2.2-py3-none-any.whl (5.8 kB)\n",
            "Installing collected packages: eval-type-backport, together\n",
            "Successfully installed eval-type-backport-0.2.2 together-1.5.4\n"
          ]
        }
      ]
    },
    {
      "cell_type": "code",
      "execution_count": 9,
      "metadata": {
        "id": "sXnmsGjLkC4B",
        "colab": {
          "base_uri": "https://localhost:8080/"
        },
        "outputId": "f0192060-dd70-4c99-e33a-8636af17eb0b"
      },
      "outputs": [
        {
          "output_type": "stream",
          "name": "stdout",
          "text": [
            "The capital of France is Paris.\n"
          ]
        }
      ],
      "source": [
        "import os\n",
        "import together\n",
        "\n",
        "os.environ[\"TOGETHER_API_KEY\"] = \"096b19277a52a87993334d00f1a5e88f3164ca2f17f6062309ce1e976a703cbd\"\n",
        "\n",
        "# response = together.Complete.create(\n",
        "#     model=\"mistralai/Mistral-7B-Instruct\",\n",
        "#     prompt=\"What is the capital of France?\",\n",
        "#     max_tokens=100\n",
        "# )\n",
        "# print(response['output'])\n",
        "\n",
        "\n",
        "\n",
        "from together import Together\n",
        "\n",
        "client = Together()\n",
        "\n",
        "response = client.chat.completions.create(\n",
        "    model=\"meta-llama/Llama-3.3-70B-Instruct-Turbo-Free\",\n",
        "    messages=[{\"role\": \"user\", \"content\": \"What is the capital of France?\"}],\n",
        ")\n",
        "print(response.choices[0].message.content)\n",
        "\n",
        "\n"
      ]
    },
    {
      "cell_type": "markdown",
      "source": [
        "Next Steps: Building an AI Agent\n",
        "Now, let’s turn this simple chatbot into an AI Agent by adding:\n",
        "✅ Memory – So it can remember past interactions\n",
        "✅ Tools (Function Calling) – Let it use APIs like web search\n",
        "✅ Custom Prompting – Control its personality"
      ],
      "metadata": {
        "id": "Kpoxu_ELetFm"
      }
    },
    {
      "cell_type": "code",
      "source": [
        "from together import Together\n",
        "\n",
        "client = Together()\n",
        "\n",
        "# Store chat history\n",
        "chat_history = [\n",
        "    {\"role\": \"system\", \"content\": \"You are an AI assistant.\"},\n",
        "]\n",
        "\n",
        "while True:\n",
        "    user_input = input(\"You: \")\n",
        "    if user_input.lower() == \"exit\":\n",
        "        break\n",
        "\n",
        "    chat_history.append({\"role\": \"user\", \"content\": user_input})\n",
        "\n",
        "    response = client.chat.completions.create(\n",
        "        model=\"meta-llama/Llama-3.3-70B-Instruct-Turbo-Free\",\n",
        "        messages=chat_history,\n",
        "    )\n",
        "\n",
        "    bot_reply = response.choices[0].message.content\n",
        "    print(\"AI:\", bot_reply)\n",
        "\n",
        "    chat_history.append({\"role\": \"assistant\", \"content\": bot_reply})  # Store response\n"
      ],
      "metadata": {
        "id": "SkoSI7INezol",
        "outputId": "a7e2c627-0f98-4b05-ee0d-6a6ddb1a8eab",
        "colab": {
          "base_uri": "https://localhost:8080/"
        }
      },
      "execution_count": 11,
      "outputs": [
        {
          "name": "stdout",
          "output_type": "stream",
          "text": [
            "You: do you know where i wanted to go?\n",
            "AI: This conversation just started. I don't have any prior knowledge about your desired destination. If you'd like to share where you're trying to go, I'd be happy to help with directions or information.\n",
            "You: im maryam\n",
            "AI: Nice to meet you, Maryam. Is there something I can help you with or would you like to chat?\n",
            "You: what is capital of france\n",
            "AI: The capital of France is Paris.\n",
            "You: who i am?\n",
            "AI: You are Maryam, that's what you told me earlier. Is there something else you'd like to share about yourself or would you like to talk about something else?\n",
            "You: exit\n"
          ]
        }
      ]
    },
    {
      "cell_type": "code",
      "source": [
        "import together\n",
        "import requests\n",
        "\n",
        "client = Together()\n",
        "\n",
        "def web_search(query):\n",
        "    url = f\"https://api.duckduckgo.com/?q={query}&format=json\"\n",
        "    response = requests.get(url).json()\n",
        "    return response.get(\"AbstractText\", \"No relevant information found.\")\n",
        "\n",
        "chat_history = [{\"role\": \"system\", \"content\": \"You are an AI assistant with web search capabilities.\"}]\n",
        "\n",
        "while True:\n",
        "    user_input = input(\"You: \")\n",
        "    if user_input.lower() == \"exit\":\n",
        "        break\n",
        "\n",
        "    # If user asks a factual question, use web search\n",
        "    if \"search\" in user_input.lower():\n",
        "        search_query = user_input.replace(\"search\", \"\").strip()\n",
        "        result = web_search(search_query)\n",
        "        chat_history.append({\"role\": \"assistant\", \"content\": result})\n",
        "        print(\"AI (Search):\", result)\n",
        "        continue\n",
        "\n",
        "    chat_history.append({\"role\": \"user\", \"content\": user_input})\n",
        "\n",
        "    response = client.chat.completions.create(\n",
        "        model=\"meta-llama/Llama-3.3-70B-Instruct-Turbo-Free\",\n",
        "        messages=chat_history,\n",
        "    )\n",
        "\n",
        "    bot_reply = response.choices[0].message.content\n",
        "    print(\"AI:\", bot_reply)\n",
        "    chat_history.append({\"role\": \"assistant\", \"content\": bot_reply})\n"
      ],
      "metadata": {
        "id": "tzFAj1GCfztd",
        "outputId": "53bde6a0-1a64-4b2a-9faa-c402b6cf766c",
        "colab": {
          "base_uri": "https://localhost:8080/"
        }
      },
      "execution_count": 12,
      "outputs": [
        {
          "name": "stdout",
          "output_type": "stream",
          "text": [
            "You: Hi\n",
            "AI: Hello. How can I assist you today? Do you have any questions or topics you'd like to discuss? I'm here to help.\n",
            "You: what is 42 wolfsburg?\n",
            "AI: 42 Wolfsburg is a German non-profit organization that offers a free, open-source, and peer-to-peer education platform. It's part of the 42 Network, a global network of coding schools that provide a unique and innovative approach to learning.\n",
            "\n",
            "The 42 Wolfsburg campus is located in Wolfsburg, Germany, and it's one of the many locations around the world that offer this type of education. The organization is known for its project-based and self-directed learning approach, where students work on real-world projects and collaborate with peers to develop their skills.\n",
            "\n",
            "The name \"42\" comes from Douglas Adams' science fiction series \"The Hitchhiker's Guide to the Galaxy,\" where 42 is the answer to the ultimate question of life, the universe, and everything. The founders of the 42 Network chose this name to reflect the idea that the answer to the question of how to learn and succeed in the digital age is not a simple one, but rather a complex and multifaceted one that requires a new approach to education.\n",
            "\n",
            "42 Wolfsburg and the 42 Network as a whole focus on teaching students the skills they need to succeed in the tech industry, with a strong emphasis on programming, software development, and data science. The organization is supported by various partners and sponsors, including companies like Volkswagen, which has a significant presence in Wolfsburg.\n",
            "\n",
            "Overall, 42 Wolfsburg is an innovative and unique educational institution that offers students a chance to learn and develop their skills in a collaborative and project-based environment.\n",
            "You: nice, where is it?\n",
            "AI: 42 Wolfsburg is located in Wolfsburg, Germany. Wolfsburg is a city in the state of Lower Saxony, Germany, and it's situated about 75 kilometers (47 miles) east of Hanover.\n",
            "\n",
            "The exact address of 42 Wolfsburg is:\n",
            "\n",
            "42 Wolfsburg\n",
            "Hansaplatz 2\n",
            "38440 Wolfsburg\n",
            "Germany\n",
            "\n",
            "Wolfsburg is a city with a rich history and a strong connection to the automotive industry, being the headquarters of Volkswagen Group. The city has a population of around 125,000 people and offers a unique blend of industrial heritage, cultural attractions, and natural beauty.\n",
            "\n",
            "The 42 Wolfsburg campus is likely located in a modern and innovative facility, with state-of-the-art equipment and resources to support the students' learning and projects. If you're interested in visiting or learning more about 42 Wolfsburg, I recommend checking their website or social media channels for more information.\n",
            "You: what did i ask you?\n",
            "AI: You asked me \"where is it?\" referring to the location of 42 Wolfsburg.\n",
            "You: exit\n"
          ]
        }
      ]
    }
  ]
}